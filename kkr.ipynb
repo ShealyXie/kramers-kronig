{
 "cells": [
  {
   "cell_type": "code",
   "execution_count": 1,
   "metadata": {},
   "outputs": [
    {
     "name": "stderr",
     "output_type": "stream",
     "text": [
      "/home/alex/dev/pymatgen/pymatgen/io/vasp/outputs.py:818: UserWarning: No POTCAR file with matching TITEL fields was found in /home/alex/dev/kkr\n",
      "  \" was found in {}\".format(os.path.abspath(p)))\n"
     ]
    }
   ],
   "source": [
    "# First load the dielectric constant data from the VASP output\n",
    "import numpy as np\n",
    "from pymatgen.io.vasp.outputs import Vasprun\n",
    "\n",
    "def symmetrise(a):\n",
    "    \"\"\"Turn a XX, YY, ZZ, XY, YZ, XZ array into a symmetrical 3x3 matrix\"\"\"\n",
    "    return [[a[0], a[3], a[5]], [a[4], a[1], a[4]], [a[5], a[4], a[2]]]\n",
    "            \n",
    "vr = Vasprun('vasprun.xml')\n",
    "energies, eps_real, eps_imag = vr.dielectric\n",
    "eps_real = np.array([symmetrise(a) for a in eps_real])\n",
    "eps_imag = np.array([symmetrise(a) for a in eps_imag])"
   ]
  },
  {
   "cell_type": "code",
   "execution_count": 2,
   "metadata": {},
   "outputs": [
    {
     "name": "stdout",
     "output_type": "stream",
     "text": [
      "1 loop, best of 3: 17.2 s per loop\n"
     ]
    }
   ],
   "source": [
    "# python version based on code in linear_optics.F\n",
    "import math\n",
    "\n",
    "def kkr(de, eps_imag, cshift=1e-6):\n",
    "    eps_imag = np.array(eps_imag)\n",
    "    nedos = eps_imag.shape[0]\n",
    "    eps_real = []\n",
    "    for i_r in range(nedos):\n",
    "        w_r = de * i_r\n",
    "        total = np.zeros(eps_imag.shape[1:], dtype=np.complex_)\n",
    "        \n",
    "        for i_i in range(nedos):\n",
    "            w_i = de * i_i\n",
    "            val = eps_imag[i_i] * ((1. / (w_r - w_i - complex(0, cshift)))\n",
    "                                   + (1. / (- w_r - w_i + complex(0, cshift)))) * (-0.5)\n",
    "            total += val\n",
    "        eps_real.append(total * (2 / math.pi) * de + np.diag([1, 1, 1]))\n",
    "    return np.real(np.array(eps_real))\n",
    "\n",
    "%timeit kkr(energies[1] - energies[0], eps_imag)"
   ]
  },
  {
   "cell_type": "code",
   "execution_count": 3,
   "metadata": {},
   "outputs": [
    {
     "name": "stdout",
     "output_type": "stream",
     "text": [
      "1 loop, best of 3: 405 ms per loop\n"
     ]
    }
   ],
   "source": [
    "# improved numpy version with Adam's help\n",
    "import math\n",
    "\n",
    "def kkr(de, eps_imag, cshift=1e-6):\n",
    "    eps_imag = np.array(eps_imag)\n",
    "    nedos = eps_imag.shape[0]\n",
    "    cshift = complex(0, cshift)\n",
    "    w_i = np.arange(0, nedos*de, de, dtype=np.complex_)\n",
    "    w_i = np.reshape(w_i, (nedos, 1, 1))\n",
    "\n",
    "    def integration_element(w_r):\n",
    "        total = np.sum(eps_imag * (1./(w_r - w_i - cshift) + 1./(-w_r - w_i + cshift)) * -0.5, axis=0)\n",
    "        return total * (2/math.pi) * de + np.diag([1, 1, 1])\n",
    "\n",
    "    return np.real([integration_element(w_r) for w_r in w_i[:,0,0]])\n",
    "\n",
    "%timeit kkr(energies[1] - energies[0], eps_imag)"
   ]
  },
  {
   "cell_type": "code",
   "execution_count": 4,
   "metadata": {},
   "outputs": [
    {
     "data": {
      "image/png": "[encoded data removed]",
      "text/plain": [
       "<matplotlib.figure.Figure at 0x7f438852bf50>"
      ]
     },
     "metadata": {},
     "output_type": "display_data"
    }
   ],
   "source": [
    "# check that the real dielectric constants match\n",
    "%matplotlib inline\n",
    "import matplotlib.pyplot as plt\n",
    "\n",
    "eps_real_calc = kkr(energies[1] - energies[0], eps_imag)\n",
    "\n",
    "plt.plot(energies, eps_real[:, 0, 0])\n",
    "plt.plot(energies, eps_real_calc[:, 0, 0])\n",
    "plt.show()"
   ]
  }
 ],
 "metadata": {
  "kernelspec": {
   "display_name": "Python 3",
   "language": "python",
   "name": "python3"
  },
  "language_info": {
   "codemirror_mode": {
    "name": "ipython",
    "version": 2
   },
   "file_extension": ".py",
   "mimetype": "text/x-python",
   "name": "python",
   "nbconvert_exporter": "python",
   "pygments_lexer": "ipython2",
   "version": "2.7.12"
  }
 },
 "nbformat": 4,
 "nbformat_minor": 2
}
